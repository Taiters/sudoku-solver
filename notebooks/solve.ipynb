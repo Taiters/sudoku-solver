{
 "cells": [
  {
   "cell_type": "code",
   "execution_count": 2,
   "id": "a2bbb029-a91e-4f86-ae3b-141240299518",
   "metadata": {},
   "outputs": [
    {
     "name": "stdout",
     "output_type": "stream",
     "text": [
      "7 0 1 5 9 2 3 4 8\n",
      "8 4 2 0 6 1 5 9 7\n",
      "5 3 9 4 7 8 0 1 2\n",
      "0 8 7 1 3 5 4 2 6\n",
      "1 5 6 8 4 9 7 0 3\n",
      "4 9 3 6 2 7 1 8 5\n",
      "9 7 4 3 5 0 8 6 1\n",
      "3 6 8 9 1 4 2 7 0\n",
      "2 1 0 7 8 6 9 3 4\n"
     ]
    }
   ],
   "source": [
    "import sudoku\n",
    "\n",
    "grid = [\n",
    "    [7, None, None, 5, 9, None, None, None, None],\n",
    "    [8, 4, None, None, None, 1, None, None, None], \n",
    "    [5, None, None, None, None, None, None, None, None], \n",
    "    [None, None, None, None, 3, None, None, None, 6], \n",
    "    [None, 5, 6, None, None, 9, 7, None, None], \n",
    "    [4, None, None, None, 2, None, None, 8, None], \n",
    "    [None, None, 4, 3, 5, None, 8, None, None], \n",
    "    [None, None, 8, None, None, None, 2, 7, None], \n",
    "    [None, 1, None, None, None, 6, 9, None, None],\n",
    "]\n",
    "\n",
    "result = sudoku.solve(grid)\n",
    "for row in result:\n",
    "    print(\" \".join(str(v[\"value\"]) for v in row))"
   ]
  },
  {
   "cell_type": "code",
   "execution_count": null,
   "id": "35790651-0d04-4202-8609-147449bec8b0",
   "metadata": {},
   "outputs": [],
   "source": []
  }
 ],
 "metadata": {
  "kernelspec": {
   "display_name": "Python 3 (ipykernel)",
   "language": "python",
   "name": "python3"
  },
  "language_info": {
   "codemirror_mode": {
    "name": "ipython",
    "version": 3
   },
   "file_extension": ".py",
   "mimetype": "text/x-python",
   "name": "python",
   "nbconvert_exporter": "python",
   "pygments_lexer": "ipython3",
   "version": "3.12.3"
  }
 },
 "nbformat": 4,
 "nbformat_minor": 5
}
